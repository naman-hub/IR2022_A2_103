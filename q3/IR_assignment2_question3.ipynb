{
 "cells": [
  {
   "cell_type": "code",
   "execution_count": 485,
   "id": "29fbcf07",
   "metadata": {},
   "outputs": [
    {
     "name": "stderr",
     "output_type": "stream",
     "text": [
      "[nltk_data] Downloading package stopwords to\n",
      "[nltk_data]     C:\\Users\\aru10\\AppData\\Roaming\\nltk_data...\n",
      "[nltk_data]   Package stopwords is already up-to-date!\n",
      "[nltk_data] Downloading package wordnet to\n",
      "[nltk_data]     C:\\Users\\aru10\\AppData\\Roaming\\nltk_data...\n",
      "[nltk_data]   Package wordnet is already up-to-date!\n",
      "[nltk_data] Downloading package omw-1.4 to\n",
      "[nltk_data]     C:\\Users\\aru10\\AppData\\Roaming\\nltk_data...\n",
      "[nltk_data]   Package omw-1.4 is already up-to-date!\n"
     ]
    },
    {
     "data": {
      "text/plain": [
       "True"
      ]
     },
     "execution_count": 485,
     "metadata": {},
     "output_type": "execute_result"
    }
   ],
   "source": [
    "import os\n",
    "import numpy as np\n",
    "import pandas as pd\n",
    "import nltk\n",
    "from nltk.corpus import stopwords\n",
    "from nltk.stem import WordNetLemmatizer\n",
    "import copy\n",
    "from sklearn.utils import shuffle\n",
    "from sklearn.model_selection import train_test_split\n",
    "from sklearn.metrics import confusion_matrix\n",
    "import matplotlib.pyplot as plt\n",
    "nltk.download('stopwords')\n",
    "nltk.download('wordnet')\n",
    "nltk.download('omw-1.4')"
   ]
  },
  {
   "cell_type": "code",
   "execution_count": 145,
   "id": "0df25092",
   "metadata": {},
   "outputs": [],
   "source": [
    "def importDocument(path):\n",
    "    required = [\"comp.graphics\", \"sci.med\", \"talk.politics.misc\", \"rec.sport.hockey\", \"sci.space\"]\n",
    "    content = {}\n",
    "    file_list = {}\n",
    "    for info in os.walk(path):\n",
    "        folder_idx = info[0].find(\"/\", 8)\n",
    "        folder_name = info[0][folder_idx+1::]\n",
    "        if folder_name in required:\n",
    "            filenames = info[2]\n",
    "            files_content = {}\n",
    "            file_name = []\n",
    "            for file in filenames:\n",
    "                f = open(info[0]+\"/\"+file)\n",
    "                file_name.append(file)\n",
    "                files_content[file] = []\n",
    "                lines = f.readlines()\n",
    "                for line in lines:\n",
    "                    files_content[file].append(line)\n",
    "            content[folder_name] = files_content\n",
    "            file_list[folder_name] = file_name\n",
    "    return content, file_list"
   ]
  },
  {
   "cell_type": "code",
   "execution_count": 146,
   "id": "61431420",
   "metadata": {},
   "outputs": [],
   "source": [
    "def onlyWords(documents):\n",
    "    for key, content in documents.items():\n",
    "        for filename, value in content.items():\n",
    "            buff = []\n",
    "            for line in range(len(value)):\n",
    "                if len(value[line].strip()) != 0:\n",
    "                    linetoken = nltk.RegexpTokenizer(r\"\\w+\").tokenize(value[line])\n",
    "                    linetoken = [i.lower() for i in linetoken]\n",
    "                    if len(linetoken) != 0:\n",
    "                        buff.append(linetoken)\n",
    "            documents[key][filename] = buff\n",
    "    return documents"
   ]
  },
  {
   "cell_type": "code",
   "execution_count": 147,
   "id": "2664a7f9",
   "metadata": {},
   "outputs": [],
   "source": [
    "def removeStopWords(documents):\n",
    "    stop_words = set(stopwords.words('english'))\n",
    "    for key, content in documents.items():\n",
    "        for filename, value in content.items():\n",
    "            for line in range(len(value)):\n",
    "                value[line] = [i for i in value[line] if not i in stop_words]\n",
    "            documents[key][filename] = value\n",
    "    return documents"
   ]
  },
  {
   "cell_type": "code",
   "execution_count": 148,
   "id": "637942d8",
   "metadata": {},
   "outputs": [],
   "source": [
    "def lemmatization(documents):\n",
    "    lemmatizer = WordNetLemmatizer()\n",
    "    for key, content in documents.items():\n",
    "        for filename, value in content.items():\n",
    "            for line in range(len(value)):\n",
    "                value[line] = [lemmatizer.lemmatize(i) for i in value[line]]\n",
    "    return documents"
   ]
  },
  {
   "cell_type": "code",
   "execution_count": 149,
   "id": "12df09f6",
   "metadata": {},
   "outputs": [],
   "source": [
    "def removeUnderscore(documents):\n",
    "    stop_words = set(stopwords.words('english'))\n",
    "    lemmatizer = WordNetLemmatizer()\n",
    "    for key, content in documents.items():\n",
    "        for filename, value in content.items():\n",
    "            for idx, line in enumerate(value):\n",
    "                add = []\n",
    "                for i, word in enumerate(line):\n",
    "                    if not word.isalnum():\n",
    "                        change = word.replace(\"_\",\" \").strip()\n",
    "                        change = nltk.RegexpTokenizer(r\"\\w+\").tokenize(change)\n",
    "                        change = [i.lower() for i in change]\n",
    "                        change = [i for i in change if not i in stop_words]\n",
    "                        change = [lemmatizer.lemmatize(i) for i in change]\n",
    "                        add += change\n",
    "                        line[i] = \"\"\n",
    "                line += add\n",
    "                value[idx] = [word for word in line if len(word) > 0]\n",
    "            documents[key][filename] = [line for line in value if len(line) > 0]\n",
    "    \n",
    "    for key, content in documents.items():\n",
    "        for filename, value in content.items():\n",
    "            buffer = []\n",
    "            for line in value:\n",
    "                buffer += line\n",
    "            documents[key][filename] = buffer\n",
    "        \n",
    "    return documents"
   ]
  },
  {
   "cell_type": "code",
   "execution_count": 166,
   "id": "ba908be9",
   "metadata": {},
   "outputs": [],
   "source": [
    "def uniqueWords(documents):\n",
    "    class_word_list = {}\n",
    "    class_bow = {}\n",
    "    for key, content in documents.items():\n",
    "        bow = {}\n",
    "        word_list = {}\n",
    "        buffer = []\n",
    "        for i, t in enumerate(content.items()):\n",
    "            filename = t[0]\n",
    "            value = t[1]\n",
    "            bow[filename] = {}\n",
    "            buffer += value\n",
    "            for word in value:\n",
    "                if word not in bow[filename]:\n",
    "                    bow[filename][word] = 1\n",
    "                else:\n",
    "                    bow[filename][word] += 1\n",
    "        \n",
    "        unique = sorted(list(set(buffer)))\n",
    "        for i, word in enumerate(unique):\n",
    "            word_list[word] = i\n",
    "        class_bow[key] = bow\n",
    "        class_word_list[key] = word_list\n",
    "    return class_word_list, class_bow"
   ]
  },
  {
   "cell_type": "code",
   "execution_count": 338,
   "id": "6ff8b66b",
   "metadata": {},
   "outputs": [],
   "source": [
    "def TF(word_list, word_dict, x1):\n",
    "    class_tf = {}\n",
    "    for key, value in word_dict.items():\n",
    "        tf = {}\n",
    "        tot = 0\n",
    "        for filename, words in value.items():\n",
    "            if filename in x1:\n",
    "                for word, count in words.items():\n",
    "                    if word not in tf:\n",
    "                        tf[word] = count\n",
    "                    else:\n",
    "                        tf[word] += count\n",
    "                    tot += count\n",
    "        \n",
    "        for word, _ in tf.items():\n",
    "            tf[word] = tf[word]/tot\n",
    "        \n",
    "        class_tf[key] = tf\n",
    "        \n",
    "    return class_tf"
   ]
  },
  {
   "cell_type": "code",
   "execution_count": 334,
   "id": "6684ca15",
   "metadata": {},
   "outputs": [],
   "source": [
    "def CF(word_list):\n",
    "    all_words = {}\n",
    "    icf = {}\n",
    "    for label, val in word_list.items():\n",
    "        for word, count in val.items():\n",
    "            if word not in all_words:\n",
    "                all_words[word] = [label]\n",
    "            else:\n",
    "                if label not in all_words[word]:\n",
    "                    all_words[word].append(label)\n",
    "\n",
    "    for word, labels in all_words.items():\n",
    "        all_words[word] = len(labels)\n",
    "        icf[word] = np.log10((5/all_words[word]))\n",
    "        \n",
    "    return all_words, icf"
   ]
  },
  {
   "cell_type": "code",
   "execution_count": 268,
   "id": "9a53db7e",
   "metadata": {},
   "outputs": [],
   "source": [
    "def TFICF(class_tf, class_icf):\n",
    "    tf_icf = copy.deepcopy(class_tf)\n",
    "    for classname, content in tf_icf.items():\n",
    "        for word, value in content.items():\n",
    "            tf_icf[classname][word] = class_tf[classname][word]*class_icf[word]\n",
    "    return tf_icf"
   ]
  },
  {
   "cell_type": "code",
   "execution_count": 517,
   "id": "d57d37ef",
   "metadata": {},
   "outputs": [],
   "source": [
    "def dataset(documents, ratio):\n",
    "    dataset = []\n",
    "    label = []\n",
    "    for key, content in documents.items():\n",
    "        for filename, value in content.items():\n",
    "            dataset.append(filename)\n",
    "            label.append(key)\n",
    "    \n",
    "    dataset, label = shuffle(dataset, label, random_state=1)\n",
    "    x1, x2, y_train, y_test = train_test_split(dataset, label, test_size = ratio)\n",
    "    return x1, y_train, x2, y_test"
   ]
  },
  {
   "cell_type": "code",
   "execution_count": 427,
   "id": "9c21df54",
   "metadata": {},
   "outputs": [],
   "source": [
    "def feature_selection(x1, x2, y1, y2,tf_icf, documents, k=2000):\n",
    "    c = np.unique(y1)\n",
    "    sep = {}\n",
    "    for i in c:\n",
    "        sep[i] = []\n",
    "    \n",
    "    testing = []\n",
    "    for i in range(len(y2)):\n",
    "        testing.append(documents[y2[i]][x2[i]])\n",
    "        \n",
    "    for i in range(len(y1)):\n",
    "        sep[y1[i]] += documents[y1[i]][x1[i]]\n",
    "    \n",
    "    for class_name,_ in sep.items():\n",
    "        unique_words = set(sep[class_name])\n",
    "        thresh = []\n",
    "        for word in unique_words:\n",
    "            thresh.append(tf_icf[class_name][word])\n",
    "        thresh = sorted(thresh)[::-1]\n",
    "#         print(len(sep[class_name]))\n",
    "        sep[class_name] = [word for word in sep[class_name] if tf_icf[class_name][word]>=thresh[k]]\n",
    "#         print(len(sep[class_name]))\n",
    "        \n",
    "    return sep, testing"
   ]
  },
  {
   "cell_type": "code",
   "execution_count": 492,
   "id": "fefcc9b4",
   "metadata": {},
   "outputs": [],
   "source": [
    "class NaiveBayes:\n",
    "    def __init__(self):\n",
    "        self.class_prob = []\n",
    "        self.priors = []\n",
    "        self.item_frequency = []\n",
    "        self.n_class = 0\n",
    "    \n",
    "    def conditional(self,x):\n",
    "        word_count = {}\n",
    "        n = len(x)\n",
    "        for word in x:\n",
    "            if word not in word_count:\n",
    "                word_count[word] = 1\n",
    "            else:\n",
    "                word_count[word] += 1\n",
    "        \n",
    "        c = 0\n",
    "        for word, val in word_count.items():\n",
    "            word_count[word] += 1\n",
    "            c+=1\n",
    "        \n",
    "        for word, val in word_count.items():\n",
    "            word_count[word] = word_count[word]/(c+n)\n",
    "        \n",
    "        return word_count\n",
    "\n",
    "    def fit(self,x,y):\n",
    "        self.item_frequency = np.unique(y)\n",
    "        self.n_class = len(self.item_frequency)\n",
    "        total = 0\n",
    "        for i in range(self.n_class):\n",
    "            total += len(x[self.item_frequency[i]])\n",
    "            self.priors.append({})\n",
    "            self.class_prob.append(0)\n",
    "        \n",
    "        for i in range(self.n_class):\n",
    "            x_t = x[self.item_frequency[i]]\n",
    "            self.priors[i] = self.conditional(x_t)\n",
    "            self.class_prob[i] = (len(x_t)/total)\n",
    "    \n",
    "    def predict(x):\n",
    "        y_predict = [calc(k) for k in x]\n",
    "        return np.array(y_predict)\n",
    "    \n",
    "    def predict(self, x):\n",
    "        y_pred = []\n",
    "        for doc in x:\n",
    "            posteriors = [prob for prob in self.class_prob]\n",
    "            for word in doc:\n",
    "                for i in range(self.n_class):\n",
    "                    if word in self.priors[i]:\n",
    "                        posteriors[i] *= self.priors[i][word]*1000\n",
    "                    else:\n",
    "                        posteriors[i] *= (1/len(self.priors[i]))*1000\n",
    "            y_pred.append(self.item_frequency[np.argmax(posteriors)])\n",
    "        return y_pred\n",
    "    \n",
    "    def accuracy(self, y_p, y):\n",
    "        count = 0\n",
    "        for i in range(len(y_p)):\n",
    "            if y_p[i] == y[i]:\n",
    "                count += 1\n",
    "        \n",
    "        return count/len(y_p), confusion_matrix(y_p, y)"
   ]
  },
  {
   "cell_type": "code",
   "execution_count": 488,
   "id": "c260f0ae",
   "metadata": {},
   "outputs": [],
   "source": [
    "path = \"dataset/20_newsgroups/\"\n",
    "documents, files = importDocument(path)"
   ]
  },
  {
   "cell_type": "code",
   "execution_count": 489,
   "id": "6a840ba7",
   "metadata": {},
   "outputs": [],
   "source": [
    "documents = onlyWords(documents)\n",
    "documents = removeStopWords(documents)\n",
    "documents = lemmatization(documents)\n",
    "documents = removeUnderscore(documents)\n",
    "word_list, word_dict = uniqueWords(documents)"
   ]
  },
  {
   "cell_type": "code",
   "execution_count": 519,
   "id": "2ef9183d",
   "metadata": {},
   "outputs": [
    {
     "name": "stdout",
     "output_type": "stream",
     "text": [
      "0.4772\n"
     ]
    },
    {
     "data": {
      "image/png": "[encoded data removed]",
      "text/plain": [
       "<Figure size 432x288 with 1 Axes>"
      ]
     },
     "metadata": {
      "needs_background": "light"
     },
     "output_type": "display_data"
    },
    {
     "name": "stdout",
     "output_type": "stream",
     "text": [
      "0.5126666666666667\n"
     ]
    },
    {
     "data": {
      "image/png": "[encoded data removed]",
      "text/plain": [
       "<Figure size 432x288 with 1 Axes>"
      ]
     },
     "metadata": {
      "needs_background": "light"
     },
     "output_type": "display_data"
    },
    {
     "name": "stdout",
     "output_type": "stream",
     "text": [
      "0.71\n"
     ]
    },
    {
     "data": {
      "image/png": "[encoded data removed]",
      "text/plain": [
       "<Figure size 432x288 with 1 Axes>"
      ]
     },
     "metadata": {
      "needs_background": "light"
     },
     "output_type": "display_data"
    }
   ],
   "source": [
    "ratio = [0.5, 0.3, 0.2]\n",
    "for r in ratio:\n",
    "    x1, y_train, x2, y_test = dataset(documents, r)\n",
    "    class_tf = TF(word_list, word_dict, x1)\n",
    "    class_cf, class_icf = CF(word_list)\n",
    "    tf_icf = TFICF(class_tf, class_icf)\n",
    "    x_train, x_test = feature_selection(x1,x2,y_train,y_test,tf_icf, documents)\n",
    "    nb = NaiveBayes()\n",
    "    nb.fit(x_train, y_train)\n",
    "    predict = nb.predict(x_test)\n",
    "    acc, matrix = nb.accuracy(predict,y_test)\n",
    "    print(acc)\n",
    "    plt.imshow(matrix)\n",
    "    plt.show()"
   ]
  }
 ],
 "metadata": {
  "kernelspec": {
   "display_name": "Python 3 (ipykernel)",
   "language": "python",
   "name": "python3"
  },
  "language_info": {
   "codemirror_mode": {
    "name": "ipython",
    "version": 3
   },
   "file_extension": ".py",
   "mimetype": "text/x-python",
   "name": "python",
   "nbconvert_exporter": "python",
   "pygments_lexer": "ipython3",
   "version": "3.10.4"
  }
 },
 "nbformat": 4,
 "nbformat_minor": 5
}
